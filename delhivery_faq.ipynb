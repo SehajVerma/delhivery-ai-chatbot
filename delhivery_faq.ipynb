{
 "cells": [
  {
   "cell_type": "code",
   "execution_count": 2,
   "metadata": {},
   "outputs": [
    {
     "name": "stderr",
     "output_type": "stream",
     "text": [
      "/home/delhivery/.local/lib/python3.10/site-packages/tqdm/auto.py:21: TqdmWarning: IProgress not found. Please update jupyter and ipywidgets. See https://ipywidgets.readthedocs.io/en/stable/user_install.html\n",
      "  from .autonotebook import tqdm as notebook_tqdm\n"
     ]
    }
   ],
   "source": [
    "from langchain.llms import GooglePalm\n",
    "import os\n",
    "\n",
    "from dotenv import load_dotenv\n",
    "load_dotenv()\n",
    "\n",
    "llm = GooglePalm(google_api_key=os.environ[\"GOOGLE_API_KEY\"], temperature=0.1)"
   ]
  },
  {
   "cell_type": "code",
   "execution_count": 62,
   "metadata": {},
   "outputs": [
    {
     "name": "stdout",
     "output_type": "stream",
     "text": [
      "**Step 1: Write a business plan**\n",
      "\n",
      "A business plan is a roadmap for your logistics company. It will help you define your goals, strategies, and financial projections. Your business plan should include the following sections:\n",
      "\n",
      "* Executive summary\n",
      "* Company description\n",
      "* Market analysis\n",
      "* Service offerings\n",
      "* Marketing plan\n",
      "* Financial plan\n",
      "* Management team\n",
      "* Appendix\n",
      "\n",
      "**Step 2: Get the necessary permits and licenses**\n",
      "\n",
      "The specific permits and licenses you need will vary depending on the state and city where you operate your business. Some common requirements include a business license, a tax ID number, and a permit to operate a warehouse.\n",
      "\n",
      "**Step 3: Choose a legal structure**\n",
      "\n",
      "There are three main legal structures for businesses: sole proprietorship, partnership, and corporation. The structure you choose will affect your taxes, liability, and other aspects of your business.\n",
      "\n",
      "* Sole proprietorship: This is the simplest and least expensive structure. You are personally liable for all debts and obligations of the business.\n",
      "* Partnership: This is a business owned by two or more people. The partners are jointly liable for all debts and obligations of the business.\n",
      "* Corporation: This is a separate legal entity from its owners. The shareholders are not personally liable for the debts and obligations of the corporation.\n",
      "\n",
      "**Step 4: Set up your business entity**\n",
      "\n",
      "Once you have chosen a legal structure, you need to set up your business entity. This involves filing the necessary paperwork with the state and obtaining the necessary permits and licenses.\n",
      "\n",
      "**Step 5: Find a location for your business**\n",
      "\n",
      "Your location is an important factor in the success of your logistics company. You need to choose a location that is close to your target customers and has good access to transportation.\n",
      "\n",
      "**Step 6: Get the necessary equipment and supplies**\n",
      "\n",
      "You will need to purchase or lease the necessary equipment and supplies for your logistics company. This includes vehicles, computers, software, and other office supplies.\n",
      "\n",
      "**Step 7: Hire employees**\n",
      "\n",
      "You will need to hire employees to help you run your logistics company. The number of employees you need will depend on the size and complexity of your business.\n",
      "\n",
      "**Step 8: Develop a marketing plan**\n",
      "\n",
      "You need to develop a marketing plan to reach your target customers and generate leads. Your marketing plan should include the following elements:\n",
      "\n",
      "* Target market\n",
      "* Marketing goals\n",
      "* Marketing strategies\n",
      "* Marketing budget\n",
      "* Marketing timeline\n",
      "\n",
      "**Step 9: Create a financial plan**\n",
      "\n",
      "You need to create a financial plan to track your income and expenses and make sure your business is profitable. Your financial plan should include the following elements:\n",
      "\n",
      "* Income statement\n",
      "* Balance sheet\n",
      "* Cash flow statement\n",
      "* Budget\n",
      "\n",
      "**Step 10: Get started**\n",
      "\n",
      "Once you have completed all of the steps above, you are ready to start your logistics company. Be sure to do your research, create a solid business plan, and get the necessary permits and licenses before you launch your business.\n",
      "\n",
      "**Tips for Starting a Logistic Company**\n",
      "\n",
      "* **Do your research.** Before you start a logistics company, it's important to do your research and understand the industry. This includes understanding the different types of logistics services, the target market, and the competition.\n",
      "* **Create a solid business plan.** Your business plan should outline your goals, strategies, and financial projections. It should also include a detailed marketing plan and a financial plan.\n",
      "* **Get the necessary permits and licenses.** The specific permits and licenses you need will vary depending on the state and city where you operate your business.\n",
      "* **Choose a legal structure.** There are three main legal structures for businesses: sole proprietorship, partnership, and corporation. The structure you choose will affect your taxes, liability, and other aspects of your business.\n",
      "* **Set up your business entity.** Once you have chosen a legal structure, you need to set up your business entity. This involves filing the necessary paperwork with the state and obtaining the necessary permits and licenses.\n",
      "* **Find a location for your business.** Your location is an important factor in the success of your logistics company. You need to choose a location that is close to your target customers and has good access to transportation.\n",
      "* **Get the necessary equipment and supplies.** You will need to purchase or lease the necessary equipment and supplies for your logistics company. This includes vehicles, computers, software, and other office supplies.\n",
      "* **Hire employees.** You will need to hire employees to help you run your logistics company. The number of employees you need will depend on the size and complexity of your business.\n",
      "* **Develop a marketing plan.** You need to develop a marketing plan to reach your target customers and generate leads. Your marketing plan should include the following elements:\n",
      "    * Target market\n",
      "    * Marketing goals\n"
     ]
    }
   ],
   "source": [
    "discussion = llm(\"how to start a logistic company\")\n",
    "print(discussion)"
   ]
  },
  {
   "cell_type": "code",
   "execution_count": 3,
   "metadata": {},
   "outputs": [],
   "source": [
    "from langchain.document_loaders.csv_loader import CSVLoader\n",
    "\n",
    "loader = CSVLoader(file_path=\"delhivery_faq.csv\",source_column=\"prompt\")\n",
    "\n",
    "data = loader.load()"
   ]
  },
  {
   "cell_type": "code",
   "execution_count": 4,
   "metadata": {},
   "outputs": [
    {
     "name": "stdout",
     "output_type": "stream",
     "text": [
      "load INSTRUCTOR_Transformer\n",
      "max_seq_length  512\n"
     ]
    }
   ],
   "source": [
    "from langchain.embeddings import HuggingFaceInstructEmbeddings\n",
    "\n",
    "instructor_embeddings = HuggingFaceInstructEmbeddings(model_name=\"hkunlp/instructor-large\")\n",
    "\n",
    "e = instructor_embeddings.embed_query(\"I have not got my order. when can I expect that?\")"
   ]
  },
  {
   "cell_type": "code",
   "execution_count": null,
   "metadata": {},
   "outputs": [
    {
     "data": {
      "text/plain": [
       "[-0.012755748815834522,\n",
       " 0.013954374939203262,\n",
       " -0.017030129209160805,\n",
       " 0.03949020430445671,\n",
       " 0.06731397658586502]"
      ]
     },
     "execution_count": 18,
     "metadata": {},
     "output_type": "execute_result"
    }
   ],
   "source": [
    "e[:5]"
   ]
  },
  {
   "cell_type": "code",
   "execution_count": 5,
   "metadata": {},
   "outputs": [
    {
     "name": "stdout",
     "output_type": "stream",
     "text": [
      "<langchain.vectorstores.faiss.FAISS object at 0x7fa46b5e12a0>\n"
     ]
    }
   ],
   "source": [
    "from langchain.vectorstores import FAISS\n",
    "\n",
    "vectordb = FAISS.from_documents(documents=data,embedding=instructor_embeddings)\n",
    "\n",
    "print(vectordb)\n",
    "\n",
    "retriever = vectordb.as_retriever(score_threshold = 0.7)"
   ]
  },
  {
   "cell_type": "code",
   "execution_count": 64,
   "metadata": {
    "tags": []
   },
   "outputs": [
    {
     "data": {
      "text/plain": [
       "[Document(page_content=\"prompt: What do I do if tracking page doesn't show the expected date of arrival?\\nresponse: Delhivery will be able to provide estimated date of arrival only after the shipment has been picked up from the merchant. In the meantime, please contact your merchant from where you placed the order for further assistance.\", metadata={'source': \"What do I do if tracking page doesn't show the expected date of arrival?\", 'row': 3}),\n",
       " Document(page_content='prompt: How can I get the delivery of my shipment if I missed it today?\\nresponse: Do not worry if you missed your order. Delhivery usually attempts to deliver the shipment on the following business day if you have missed a delivery.', metadata={'source': 'How can I get the delivery of my shipment if I missed it today?', 'row': 5}),\n",
       " Document(page_content='prompt: My shipment is out for delivery. When will I receive it?\\nresponse: Your shipment can be delivered to you anytime between 10:00 am and 8:00 pm on the same day when it is marked as out for delivery.', metadata={'source': 'My shipment is out for delivery. When will I receive it?', 'row': 4}),\n",
       " Document(page_content='prompt: Why is my package delayed?\\nresponse: Your delivery may get delayed due to unforeseen circumstances. A new delivery timeframe will be shared with you when you track your shipment on our website. In case you have additional questions or concerns, please raise a support ticket from here. You can also contact us via our IVR number +91-8069856101.', metadata={'source': 'Why is my package delayed?', 'row': 1})]"
      ]
     },
     "execution_count": 64,
     "metadata": {},
     "output_type": "execute_result"
    }
   ],
   "source": [
    "rdocs = retriever.get_relevant_documents(\"I have not got my order. when can I expect that?\")\n",
    "\n",
    "rdocs\n"
   ]
  },
  {
   "cell_type": "code",
   "execution_count": 7,
   "metadata": {},
   "outputs": [],
   "source": [
    "from langchain.prompts import PromptTemplate\n",
    "\n",
    "prompt_template = \"\"\"Given the following context and a question, generate an answer based on this context only.\n",
    "In the answer try to provide as much text as possible from \"response\" section in the source document context without making much changes.\n",
    "If the answer is not found in the context, kindly state \"I don't know. Please raise a ticket for your query.\" Don't try to make up an answer.\n",
    "\n",
    "CONTEXT: {context}\n",
    "\n",
    "QUESTION: {question}\"\"\"\n",
    "\n",
    "PROMPT = PromptTemplate(template=prompt_template,input_variables=['context','question']\n",
    "            )\n",
    "\n",
    "chain_type_kwargs = {\"prompt\": PROMPT, \"verbose\":True}"
   ]
  },
  {
   "cell_type": "code",
   "execution_count": null,
   "metadata": {},
   "outputs": [],
   "source": [
    "from langchain.chains import RetrievalQA\n",
    "\n",
    "chain = RetrievalQA.from_chain_type(llm=llm,\n",
    "                            chain_type=\"stuff\",\n",
    "                            retriever=retriever,\n",
    "                            input_key=\"query\",\n",
    "                            return_source_documents=True,\n",
    "                            verbose=True\n",
    "                        )"
   ]
  },
  {
   "cell_type": "code",
   "execution_count": 8,
   "metadata": {},
   "outputs": [],
   "source": [
    "from langchain.chains import RetrievalQA\n",
    "\n",
    "chain = RetrievalQA.from_chain_type(llm=llm,\n",
    "                            chain_type=\"stuff\",\n",
    "                            retriever=retriever,\n",
    "                            input_key=\"query\",\n",
    "                            return_source_documents=True,\n",
    "                            verbose=True,\n",
    "                            chain_type_kwargs=chain_type_kwargs\n",
    "                        )"
   ]
  },
  {
   "cell_type": "code",
   "execution_count": 39,
   "metadata": {},
   "outputs": [
    {
     "name": "stdout",
     "output_type": "stream",
     "text": [
      "\n",
      "\n",
      "\u001b[1m> Entering new RetrievalQA chain...\u001b[0m\n",
      "\n",
      "\n",
      "\u001b[1m> Entering new StuffDocumentsChain chain...\u001b[0m\n",
      "\n",
      "\n",
      "\u001b[1m> Entering new LLMChain chain...\u001b[0m\n",
      "Prompt after formatting:\n",
      "\u001b[32;1m\u001b[1;3mGiven the following context and a question, generate an answer based on this context only.\n",
      "In the answer try to provide as much text as possible from \"response\" section in the source document context without making much changes.\n",
      "If the answer is not found in the context, kindly state \"I don't know. Please raise a ticket for your query.\" Don't try to make up an answer.\n",
      "\n",
      "CONTEXT: prompt: How can I get the delivery of my shipment if I missed it today?\n",
      "response: Do not worry if you missed your order. Delhivery usually attempts to deliver the shipment on the following business day if you have missed a delivery.\n",
      "\n",
      "prompt: How can I get the contact number of my delivery partner?\n",
      "response: As a part of the company policy, we do not share the phone numbers of our delivery partners. However, please be assured that our representatives will contact you if they face any difficulty in locating your address.\n",
      "\n",
      "prompt: My shipment is out for delivery. When will I receive it?\n",
      "response: Your shipment can be delivered to you anytime between 10:00 am and 8:00 pm on the same day when it is marked as out for delivery.\n",
      "\n",
      "prompt: Why is my package delayed?\n",
      "response: Your delivery may get delayed due to unforeseen circumstances. A new delivery timeframe will be shared with you when you track your shipment on our website. In case you have additional questions or concerns, please raise a support ticket from here. You can also contact us via our IVR number +91-8069856101.\n",
      "\n",
      "QUESTION: Can i get my shipment tomorrow and please share the delivery boy number\u001b[0m\n",
      "\n",
      "\u001b[1m> Finished chain.\u001b[0m\n",
      "\n",
      "\u001b[1m> Finished chain.\u001b[0m\n",
      "\n",
      "\u001b[1m> Finished chain.\u001b[0m\n"
     ]
    },
    {
     "data": {
      "text/plain": [
       "{'query': 'Can i get my shipment tomorrow and please share the delivery boy number',\n",
       " 'result': 'Do not worry if you missed your order. Delhivery usually attempts to deliver the shipment on the following business day if you have missed a delivery. As a part of the company policy, we do not share the phone numbers of our delivery partners.',\n",
       " 'source_documents': [Document(page_content='prompt: How can I get the delivery of my shipment if I missed it today?\\nresponse: Do not worry if you missed your order. Delhivery usually attempts to deliver the shipment on the following business day if you have missed a delivery.', metadata={'source': 'How can I get the delivery of my shipment if I missed it today?', 'row': 5}),\n",
       "  Document(page_content='prompt: How can I get the contact number of my delivery partner?\\nresponse: As a part of the company policy, we do not share the phone numbers of our delivery partners. However, please be assured that our representatives will contact you if they face any difficulty in locating your address.', metadata={'source': 'How can I get the contact number of my delivery partner?', 'row': 7}),\n",
       "  Document(page_content='prompt: My shipment is out for delivery. When will I receive it?\\nresponse: Your shipment can be delivered to you anytime between 10:00 am and 8:00 pm on the same day when it is marked as out for delivery.', metadata={'source': 'My shipment is out for delivery. When will I receive it?', 'row': 4}),\n",
       "  Document(page_content='prompt: Why is my package delayed?\\nresponse: Your delivery may get delayed due to unforeseen circumstances. A new delivery timeframe will be shared with you when you track your shipment on our website. In case you have additional questions or concerns, please raise a support ticket from here. You can also contact us via our IVR number +91-8069856101.', metadata={'source': 'Why is my package delayed?', 'row': 1})]}"
      ]
     },
     "execution_count": 39,
     "metadata": {},
     "output_type": "execute_result"
    }
   ],
   "source": [
    "query = \"Can i get my shipment tomorrow and please share the delivery boy number\"\n",
    "chain({\"query\": query})"
   ]
  },
  {
   "cell_type": "code",
   "execution_count": 9,
   "metadata": {},
   "outputs": [
    {
     "name": "stdout",
     "output_type": "stream",
     "text": [
      "\n",
      "\n",
      "\u001b[1m> Entering new RetrievalQA chain...\u001b[0m\n",
      "\n",
      "\n",
      "\u001b[1m> Entering new StuffDocumentsChain chain...\u001b[0m\n",
      "\n",
      "\n",
      "\u001b[1m> Entering new LLMChain chain...\u001b[0m\n",
      "Prompt after formatting:\n",
      "\u001b[32;1m\u001b[1;3mGiven the following context and a question, generate an answer based on this context only.\n",
      "In the answer try to provide as much text as possible from \"response\" section in the source document context without making much changes.\n",
      "If the answer is not found in the context, kindly state \"I don't know. Please raise a ticket for your query.\" Don't try to make up an answer.\n",
      "\n",
      "CONTEXT: prompt: How can I get the delivery of my shipment if I missed it today?\n",
      "response: Do not worry if you missed your order. Delhivery usually attempts to deliver the shipment on the following business day if you have missed a delivery.\n",
      "\n",
      "prompt: Why can I see no update to the status of my shipment?\n",
      "response: Delhivery tracking updates are accurate and real time. However, if due to unforeseen circumstances, your shipment has not moved in the last few days, you can raise a support ticket here.\n",
      "\n",
      "prompt: What do I do if tracking page doesn't show the expected date of arrival?\n",
      "response: Delhivery will be able to provide estimated date of arrival only after the shipment has been picked up from the merchant. In the meantime, please contact your merchant from where you placed the order for further assistance.\n",
      "\n",
      "prompt: How can I track my shipment?\n",
      "response: To track your shipment, you can download our app or go to the tracking page. Entering your tracking ID (AWB/LRN) and click on 'TRACK'. You can also login using your mobile number to view all shipments being delivered to you by Delhivery and reach out to our customer support.\n",
      "\n",
      "QUESTION: does delhivery provide bfsi shipments?\u001b[0m\n",
      "\n",
      "\u001b[1m> Finished chain.\u001b[0m\n",
      "\n",
      "\u001b[1m> Finished chain.\u001b[0m\n",
      "\n",
      "\u001b[1m> Finished chain.\u001b[0m\n"
     ]
    },
    {
     "data": {
      "text/plain": [
       "{'query': 'does delhivery provide bfsi shipments?',\n",
       " 'result': \"I don't know. Please raise a ticket for your query.\",\n",
       " 'source_documents': [Document(page_content='prompt: How can I get the delivery of my shipment if I missed it today?\\nresponse: Do not worry if you missed your order. Delhivery usually attempts to deliver the shipment on the following business day if you have missed a delivery.', metadata={'source': 'How can I get the delivery of my shipment if I missed it today?', 'row': 5}),\n",
       "  Document(page_content='prompt: Why can I see no update to the status of my shipment?\\nresponse: Delhivery tracking updates are accurate and real time. However, if due to unforeseen circumstances, your shipment has not moved in the last few days, you can raise a support ticket here.', metadata={'source': 'Why can I see no update to the status of my shipment?', 'row': 6}),\n",
       "  Document(page_content=\"prompt: What do I do if tracking page doesn't show the expected date of arrival?\\nresponse: Delhivery will be able to provide estimated date of arrival only after the shipment has been picked up from the merchant. In the meantime, please contact your merchant from where you placed the order for further assistance.\", metadata={'source': \"What do I do if tracking page doesn't show the expected date of arrival?\", 'row': 3}),\n",
       "  Document(page_content=\"prompt: How can I track my shipment?\\nresponse: To track your shipment, you can download our app or go to the tracking page. Entering your tracking ID (AWB/LRN) and click on 'TRACK'. You can also login using your mobile number to view all shipments being delivered to you by Delhivery and reach out to our customer support.\", metadata={'source': 'How can I track my shipment?', 'row': 0})]}"
      ]
     },
     "execution_count": 9,
     "metadata": {},
     "output_type": "execute_result"
    }
   ],
   "source": [
    "chain(\"does delhivery provide bfsi shipments?\")"
   ]
  },
  {
   "cell_type": "code",
   "execution_count": 31,
   "metadata": {},
   "outputs": [
    {
     "data": {
      "text/plain": [
       "{'query': 'I have not got my order. when can I expect that and do you deliver at home?',\n",
       " 'result': 'Your shipment can be delivered to you anytime between 10:00 am and 8:00 pm on the same day when it is marked as out for delivery. Yes, we deliver at home.',\n",
       " 'source_documents': [Document(page_content='prompt: How can I get the delivery of my shipment if I missed it today?\\nresponse: Do not worry if you missed your order. Delhivery usually attempts to deliver the shipment on the following business day if you have missed a delivery.', metadata={'source': 'How can I get the delivery of my shipment if I missed it today?', 'row': 5}),\n",
       "  Document(page_content=\"prompt: What do I do if tracking page doesn't show the expected date of arrival?\\nresponse: Delhivery will be able to provide estimated date of arrival only after the shipment has been picked up from the merchant. In the meantime, please contact your merchant from where you placed the order for further assistance.\", metadata={'source': \"What do I do if tracking page doesn't show the expected date of arrival?\", 'row': 3}),\n",
       "  Document(page_content='prompt: My shipment is out for delivery. When will I receive it?\\nresponse: Your shipment can be delivered to you anytime between 10:00 am and 8:00 pm on the same day when it is marked as out for delivery.', metadata={'source': 'My shipment is out for delivery. When will I receive it?', 'row': 4}),\n",
       "  Document(page_content='prompt: Why is my package delayed?\\nresponse: Your delivery may get delayed due to unforeseen circumstances. A new delivery timeframe will be shared with you when you track your shipment on our website. In case you have additional questions or concerns, please raise a support ticket from here. You can also contact us via our IVR number +91-8069856101.', metadata={'source': 'Why is my package delayed?', 'row': 1})]}"
      ]
     },
     "execution_count": 31,
     "metadata": {},
     "output_type": "execute_result"
    }
   ],
   "source": [
    "chain(\"I have not got my order. when can I expect that and do you deliver at home?\")"
   ]
  },
  {
   "cell_type": "code",
   "execution_count": 68,
   "metadata": {},
   "outputs": [
    {
     "data": {
      "text/plain": [
       "{'query': 'I have not got my order. when can I expect that and can you deliver it in my office?',\n",
       " 'result': 'Your shipment can be delivered to you anytime between 10:00 am and 8:00 pm on the same day when it is marked as out for delivery. We can deliver your shipment to your office address if it is within our delivery area.',\n",
       " 'source_documents': [Document(page_content='prompt: How can I get the delivery of my shipment if I missed it today?\\nresponse: Do not worry if you missed your order. Delhivery usually attempts to deliver the shipment on the following business day if you have missed a delivery.', metadata={'source': 'How can I get the delivery of my shipment if I missed it today?', 'row': 5}),\n",
       "  Document(page_content='prompt: My shipment is out for delivery. When will I receive it?\\nresponse: Your shipment can be delivered to you anytime between 10:00 am and 8:00 pm on the same day when it is marked as out for delivery.', metadata={'source': 'My shipment is out for delivery. When will I receive it?', 'row': 4}),\n",
       "  Document(page_content=\"prompt: What do I do if tracking page doesn't show the expected date of arrival?\\nresponse: Delhivery will be able to provide estimated date of arrival only after the shipment has been picked up from the merchant. In the meantime, please contact your merchant from where you placed the order for further assistance.\", metadata={'source': \"What do I do if tracking page doesn't show the expected date of arrival?\", 'row': 3}),\n",
       "  Document(page_content='prompt: Why is my package delayed?\\nresponse: Your delivery may get delayed due to unforeseen circumstances. A new delivery timeframe will be shared with you when you track your shipment on our website. In case you have additional questions or concerns, please raise a support ticket from here. You can also contact us via our IVR number +91-8069856101.', metadata={'source': 'Why is my package delayed?', 'row': 1})]}"
      ]
     },
     "execution_count": 68,
     "metadata": {},
     "output_type": "execute_result"
    }
   ],
   "source": [
    "chain(\"I have not got my order. when can I expect that and can you deliver it in my office?\")"
   ]
  },
  {
   "cell_type": "code",
   "execution_count": 76,
   "metadata": {},
   "outputs": [
    {
     "data": {
      "text/plain": [
       "{'query': 'Do you help in returns of product?',\n",
       " 'result': 'Delhivery does not handle returns of products. Please contact the merchant from where you placed the order for further assistance.',\n",
       " 'source_documents': [Document(page_content='prompt: How can I get the delivery of my shipment if I missed it today?\\nresponse: Do not worry if you missed your order. Delhivery usually attempts to deliver the shipment on the following business day if you have missed a delivery.', metadata={'source': 'How can I get the delivery of my shipment if I missed it today?', 'row': 5}),\n",
       "  Document(page_content='prompt: How can I get the contact number of my delivery partner?\\nresponse: As a part of the company policy, we do not share the phone numbers of our delivery partners. However, please be assured that our representatives will contact you if they face any difficulty in locating your address.', metadata={'source': 'How can I get the contact number of my delivery partner?', 'row': 7}),\n",
       "  Document(page_content=\"prompt: How can I track my shipment?\\nresponse: To track your shipment, you can download our app or go to the tracking page. Entering your tracking ID (AWB/LRN) and click on 'TRACK'. You can also login using your mobile number to view all shipments being delivered to you by Delhivery and reach out to our customer support.\", metadata={'source': 'How can I track my shipment?', 'row': 0}),\n",
       "  Document(page_content=\"prompt: What do I do if tracking page doesn't show the expected date of arrival?\\nresponse: Delhivery will be able to provide estimated date of arrival only after the shipment has been picked up from the merchant. In the meantime, please contact your merchant from where you placed the order for further assistance.\", metadata={'source': \"What do I do if tracking page doesn't show the expected date of arrival?\", 'row': 3})]}"
      ]
     },
     "execution_count": 76,
     "metadata": {},
     "output_type": "execute_result"
    }
   ],
   "source": [
    "chain(\"Do you help in returns of product?\")"
   ]
  },
  {
   "cell_type": "code",
   "execution_count": 21,
   "metadata": {},
   "outputs": [
    {
     "data": {
      "text/plain": [
       "{'query': 'does delhivery provide open box delivery?',\n",
       " 'result': \"I don't know. Please raise a ticket for your query.\",\n",
       " 'source_documents': [Document(page_content='prompt: How can I get the delivery of my shipment if I missed it today?\\nresponse: Do not worry if you missed your order. Delhivery usually attempts to deliver the shipment on the following business day if you have missed a delivery.', metadata={'source': 'How can I get the delivery of my shipment if I missed it today?', 'row': 5}),\n",
       "  Document(page_content=\"prompt: What do I do if tracking page doesn't show the expected date of arrival?\\nresponse: Delhivery will be able to provide estimated date of arrival only after the shipment has been picked up from the merchant. In the meantime, please contact your merchant from where you placed the order for further assistance.\", metadata={'source': \"What do I do if tracking page doesn't show the expected date of arrival?\", 'row': 3}),\n",
       "  Document(page_content=\"prompt: How can I track my shipment?\\nresponse: To track your shipment, you can download our app or go to the tracking page. Entering your tracking ID (AWB/LRN) and click on 'TRACK'. You can also login using your mobile number to view all shipments being delivered to you by Delhivery and reach out to our customer support.\", metadata={'source': 'How can I track my shipment?', 'row': 0}),\n",
       "  Document(page_content='prompt: Why can I see no update to the status of my shipment?\\nresponse: Delhivery tracking updates are accurate and real time. However, if due to unforeseen circumstances, your shipment has not moved in the last few days, you can raise a support ticket here.', metadata={'source': 'Why can I see no update to the status of my shipment?', 'row': 6})]}"
      ]
     },
     "execution_count": 21,
     "metadata": {},
     "output_type": "execute_result"
    }
   ],
   "source": [
    "chain(\"does delhivery provide open box delivery?\")"
   ]
  }
 ],
 "metadata": {
  "kernelspec": {
   "display_name": "Python 3",
   "language": "python",
   "name": "python3"
  },
  "language_info": {
   "codemirror_mode": {
    "name": "ipython",
    "version": 3
   },
   "file_extension": ".py",
   "mimetype": "text/x-python",
   "name": "python",
   "nbconvert_exporter": "python",
   "pygments_lexer": "ipython3",
   "version": "3.10.12"
  },
  "orig_nbformat": 4
 },
 "nbformat": 4,
 "nbformat_minor": 2
}
